{
  "nbformat": 4,
  "nbformat_minor": 0,
  "metadata": {
    "colab": {
      "provenance": [],
      "authorship_tag": "ABX9TyMw15j/NkL3iNPqfvgTcZYK",
      "include_colab_link": true
    },
    "kernelspec": {
      "name": "python3",
      "display_name": "Python 3"
    },
    "language_info": {
      "name": "python"
    }
  },
  "cells": [
    {
      "cell_type": "markdown",
      "metadata": {
        "id": "view-in-github",
        "colab_type": "text"
      },
      "source": [
        "<a href=\"https://colab.research.google.com/github/joeperrotta/polly-project/blob/main/Polly_Data_Scientist_Assesment.ipynb\" target=\"_parent\"><img src=\"https://colab.research.google.com/assets/colab-badge.svg\" alt=\"Open In Colab\"/></a>"
      ]
    },
    {
      "cell_type": "code",
      "execution_count": 2,
      "metadata": {
        "colab": {
          "base_uri": "https://localhost:8080/"
        },
        "id": "I628DQ_w8myG",
        "outputId": "4264ea49-cc50-4bed-a692-5379fea21fbe"
      },
      "outputs": [
        {
          "output_type": "stream",
          "name": "stdout",
          "text": [
            "\u001b[2K     \u001b[90m━━━━━━━━━━━━━━━━━━━━━━━━━━━━━━━━━━━━━━━━\u001b[0m \u001b[32m317.0/317.0 MB\u001b[0m \u001b[31m3.2 MB/s\u001b[0m eta \u001b[36m0:00:00\u001b[0m\n",
            "\u001b[?25h  Preparing metadata (setup.py) ... \u001b[?25l\u001b[?25hdone\n",
            "  Building wheel for pyspark (setup.py) ... \u001b[?25l\u001b[?25hdone\n"
          ]
        }
      ],
      "source": [
        "!pip install -q pyspark\n",
        "!pip install -q handyspark"
      ]
    },
    {
      "cell_type": "code",
      "source": [
        "from pyspark.sql import SparkSession, Window, Row\n",
        "\n",
        "spark = SparkSession.builder.appName(\"housingSpark\").getOrCreate()\n",
        "\n",
        "\n",
        "from google.colab import drive\n",
        "drive.mount('/content/drive')\n",
        "df = spark.read.csv('/content/drive/My Drive/Copy of hmda_sampled_df_1_percent.csv', header=True, inferSchema=\"true\")\n"
      ],
      "metadata": {
        "colab": {
          "base_uri": "https://localhost:8080/"
        },
        "id": "DlVKINiw9L90",
        "outputId": "e22670a3-ba36-4c9c-8120-ab327ab2b11b"
      },
      "execution_count": 3,
      "outputs": [
        {
          "output_type": "stream",
          "name": "stdout",
          "text": [
            "Mounted at /content/drive\n"
          ]
        }
      ]
    },
    {
      "cell_type": "code",
      "source": [
        "# Shape of the dataset\n",
        "print('Shape of the dataset: ', (df.count(), len(df.columns)))\n",
        "\n",
        "# Displaying top n=10 rows\n",
        "df.show(n=10)\n",
        "\n"
      ],
      "metadata": {
        "colab": {
          "base_uri": "https://localhost:8080/"
        },
        "id": "1OYanjv58_MD",
        "outputId": "f863c30c-8a84-4edf-cb11-26ad488860a6"
      },
      "execution_count": 4,
      "outputs": [
        {
          "output_type": "stream",
          "name": "stdout",
          "text": [
            "Shape of the dataset:  (1874628, 78)\n",
            "+----------+-------------+--------------------+-----------+-----------+--------------+---------+--------------------+-------------+-----------------+------------+--------------------+---------------+----------------+--------------------+-----------+--------------------+------------+--------------------+-----+----------+----------+----------+------------------+-----------+-------------------+------------------------+-------------------+---------------------------+----------------------+---------------------+----------------+---------------------+----------------+---------------------+----------------+---------------------+----------------+---------------------+----------------+------------------------+-------------------+------------------------+-------------------+------------------------+-------------------+------------------------+-------------------+------------------------+-------------------+--------------------+-------------+---------------------+----------------+---------------------+--------------------+--------------+--------------------+---------------+--------------------+---------------+--------------------+---------------+-----------+-----------------+------------+--------------------+-----------+----------------+-----------+---------------+----------+-------------------+------------------------+---------------------+------------------------------+-----------------------------+--------------------------+\n",
            "|as_of_year|respondent_id|         agency_name|agency_abbr|agency_code|loan_type_name|loan_type|  property_type_name|property_type|loan_purpose_name|loan_purpose|owner_occupancy_name|owner_occupancy|loan_amount_000s|    preapproval_name|preapproval|   action_taken_name|action_taken|          msamd_name|msamd|state_name|state_abbr|state_code|       county_name|county_code|census_tract_number|applicant_ethnicity_name|applicant_ethnicity|co_applicant_ethnicity_name|co_applicant_ethnicity|applicant_race_name_1|applicant_race_1|applicant_race_name_2|applicant_race_2|applicant_race_name_3|applicant_race_3|applicant_race_name_4|applicant_race_4|applicant_race_name_5|applicant_race_5|co_applicant_race_name_1|co_applicant_race_1|co_applicant_race_name_2|co_applicant_race_2|co_applicant_race_name_3|co_applicant_race_3|co_applicant_race_name_4|co_applicant_race_4|co_applicant_race_name_5|co_applicant_race_5|  applicant_sex_name|applicant_sex|co_applicant_sex_name|co_applicant_sex|applicant_income_000s| purchaser_type_name|purchaser_type|denial_reason_name_1|denial_reason_1|denial_reason_name_2|denial_reason_2|denial_reason_name_3|denial_reason_3|rate_spread|hoepa_status_name|hoepa_status|    lien_status_name|lien_status|edit_status_name|edit_status|sequence_number|population|minority_population|hud_median_family_income|tract_to_msamd_income|number_of_owner_occupied_units|number_of_1_to_4_family_units|application_date_indicator|\n",
            "+----------+-------------+--------------------+-----------+-----------+--------------+---------+--------------------+-------------+-----------------+------------+--------------------+---------------+----------------+--------------------+-----------+--------------------+------------+--------------------+-----+----------+----------+----------+------------------+-----------+-------------------+------------------------+-------------------+---------------------------+----------------------+---------------------+----------------+---------------------+----------------+---------------------+----------------+---------------------+----------------+---------------------+----------------+------------------------+-------------------+------------------------+-------------------+------------------------+-------------------+------------------------+-------------------+------------------------+-------------------+--------------------+-------------+---------------------+----------------+---------------------+--------------------+--------------+--------------------+---------------+--------------------+---------------+--------------------+---------------+-----------+-----------------+------------+--------------------+-----------+----------------+-----------+---------------+----------+-------------------+------------------------+---------------------+------------------------------+-----------------------------+--------------------------+\n",
            "|      2007|   4856500006|Department of Hou...|        HUD|          7|  Conventional|        1|Manufactured housing|            2|    Home purchase|           1|Owner-occupied as...|              1|              38|      Not applicable|          3|Application denie...|           3|                NULL| NULL|  Missouri|        MO|        29|              NULL|       NULL|               NULL|    Not Hispanic or L...|                  2|            No co-applicant|                     5|                White|               5|                 NULL|            NULL|                 NULL|            NULL|                 NULL|            NULL|                 NULL|            NULL|         No co-applicant|                  8|                    NULL|               NULL|                    NULL|               NULL|                    NULL|               NULL|                    NULL|               NULL|              Female|            2|      No co-applicant|               5|                   41|Loan was not orig...|             0|      Credit history|              3|Debt-to-income ratio|              1|                NULL|           NULL|       NULL| Not a HOEPA loan|           2|Secured by a firs...|          1|            NULL|       NULL|          69077|      NULL|               NULL|                    NULL|                 NULL|                          NULL|                         NULL|                         0|\n",
            "|      2007|   0000008551|Office of Thrift ...|        OTS|          4|  Conventional|        1|One-to-four famil...|            1|      Refinancing|           3|Owner-occupied as...|              1|             463|      Not applicable|          3|     Loan originated|           1|San Jose, Sunnyva...|41940|California|        CA|         6|Santa Clara County|         85|             5012.0|      Hispanic or Latino|                  1|            No co-applicant|                     5|                White|               5|                 NULL|            NULL|                 NULL|            NULL|                 NULL|            NULL|                 NULL|            NULL|         No co-applicant|                  8|                    NULL|               NULL|                    NULL|               NULL|                    NULL|               NULL|                    NULL|               NULL|              Female|            2|      No co-applicant|               5|                  127|Loan was not orig...|             0|                NULL|           NULL|                NULL|           NULL|                NULL|           NULL|       3.37| Not a HOEPA loan|           2|Secured by a firs...|          1|            NULL|       NULL|         533576|      4792|  82.44999694824219|                   94500|    64.76000213623047|                           523|                         1223|                         0|\n",
            "|      2007|   0000001741|Office of the Com...|        OCC|          1|  Conventional|        1|One-to-four famil...|            1|      Refinancing|           3|Owner-occupied as...|              1|             452|      Not applicable|          3|     Loan originated|           1|Portland, Vancouv...|38900|    Oregon|        OR|        41|  Multnomah County|         51|              24.01|    Not Hispanic or L...|                  2|            No co-applicant|                     5|                White|               5|                 NULL|            NULL|                 NULL|            NULL|                 NULL|            NULL|                 NULL|            NULL|         No co-applicant|                  8|                    NULL|               NULL|                    NULL|               NULL|                    NULL|               NULL|                    NULL|               NULL|              Female|            2|      No co-applicant|               5|                  180|Loan was not orig...|             0|                NULL|           NULL|                NULL|           NULL|                NULL|           NULL|       NULL| Not a HOEPA loan|           2|Secured by a firs...|          1|            NULL|       NULL|         876709|      2782| 28.940000534057617|                   63800|   130.16000366210938|                           842|                         1022|                         0|\n",
            "|      2007|   0003394401|Federal Reserve S...|        FRS|          2|  Conventional|        1|One-to-four famil...|            1|      Refinancing|           3|Not owner-occupie...|              2|             125|      Not applicable|          3|Application denie...|           3|          Ocala - FL|36100|   Florida|        FL|        12|     Marion County|         83|              12.03|    Information not p...|                  3|            No co-applicant|                     5| Information not p...|               6|                 NULL|            NULL|                 NULL|            NULL|                 NULL|            NULL|                 NULL|            NULL|         No co-applicant|                  8|                    NULL|               NULL|                    NULL|               NULL|                    NULL|               NULL|                    NULL|               NULL|Information not p...|            3|      No co-applicant|               5|                   20|Loan was not orig...|             0|                NULL|           NULL|                NULL|           NULL|                NULL|           NULL|       NULL| Not a HOEPA loan|           2|Secured by a firs...|          1|            NULL|       NULL|         103589|     13944| 23.209999084472656|                   42700|               104.25|                          5024|                         6310|                         0|\n",
            "|      2007|   0001072246|Federal Reserve S...|        FRS|          2|   FHA-insured|        2|One-to-four famil...|            1|    Home purchase|           1|Owner-occupied as...|              1|             108|Preapproval was n...|          2|     Loan originated|           1|    Springfield - MO|44180|  Missouri|        MO|        29|     Greene County|         77|               46.0|    Not Hispanic or L...|                  2|            No co-applicant|                     5|                White|               5|                 NULL|            NULL|                 NULL|            NULL|                 NULL|            NULL|                 NULL|            NULL|         No co-applicant|                  8|                    NULL|               NULL|                    NULL|               NULL|                    NULL|               NULL|                    NULL|               NULL|                Male|            1|      No co-applicant|               5|                   35|   Ginnie Mae (GNMA)|             2|                NULL|           NULL|                NULL|           NULL|                NULL|           NULL|       NULL| Not a HOEPA loan|           2|Secured by a firs...|          1|            NULL|       NULL|         316473|      6226| 2.9600000381469727|                   50700|   101.16000366210938|                          1853|                         2451|                         0|\n",
            "|      2007|   0001194951|Federal Reserve S...|        FRS|          2|  Conventional|        1|One-to-four famil...|            1|    Home purchase|           1|Owner-occupied as...|              1|              94|      Not applicable|          3|     Loan originated|           1|  Oklahoma City - OK|36420|  Oklahoma|        OK|        40|   Oklahoma County|        109|            1072.15|      Hispanic or Latino|                  1|            No co-applicant|                     5|                White|               5|                 NULL|            NULL|                 NULL|            NULL|                 NULL|            NULL|                 NULL|            NULL|         No co-applicant|                  8|                    NULL|               NULL|                    NULL|               NULL|                    NULL|               NULL|                    NULL|               NULL|                Male|            1|      No co-applicant|               5|                   48|Affiliate institu...|             8|                NULL|           NULL|                NULL|           NULL|                NULL|           NULL|       4.01| Not a HOEPA loan|           2|Secured by a firs...|          1|            NULL|       NULL|           9131|      3501| 26.139999389648438|                   53600|    83.87000274658203|                           940|                         1378|                         0|\n",
            "|      2007|   0000236751|Federal Reserve S...|        FRS|          2|  Conventional|        1|Manufactured housing|            2|    Home purchase|           1|Owner-occupied as...|              1|              35|      Not applicable|          3|     Loan originated|           1|                NULL| NULL|New Mexico|        NM|        35|       Taos County|         55|             9524.0|      Hispanic or Latino|                  1|         Hispanic or Latino|                     1|                White|               5|                 NULL|            NULL|                 NULL|            NULL|                 NULL|            NULL|                 NULL|            NULL|                   White|                  5|                    NULL|               NULL|                    NULL|               NULL|                    NULL|               NULL|                    NULL|               NULL|                Male|            1|               Female|               2|                   37|Loan was not orig...|             0|                NULL|           NULL|                NULL|           NULL|                NULL|           NULL|       NULL| Not a HOEPA loan|           2|Secured by a subo...|          2|            NULL|       NULL|            400|      6850|  66.38999938964844|                   39700|    95.19999694824219|                          2016|                         3537|                         0|\n",
            "|      2007|   0001644643|Federal Reserve S...|        FRS|          2|  Conventional|        1|One-to-four famil...|            1|      Refinancing|           3|Owner-occupied as...|              1|             242|      Not applicable|          3|Application withd...|           4|Washington, Arlin...|47894|  Maryland|        MD|        24|    Charles County|         17|             8504.0|    Not Hispanic or L...|                  2|       Not Hispanic or L...|                     2|                White|               5|                 NULL|            NULL|                 NULL|            NULL|                 NULL|            NULL|                 NULL|            NULL|                   White|                  5|                    NULL|               NULL|                    NULL|               NULL|                    NULL|               NULL|                    NULL|               NULL|                Male|            1|               Female|               2|                   79|Loan was not orig...|             0|                NULL|           NULL|                NULL|           NULL|                NULL|           NULL|       NULL| Not a HOEPA loan|           2|Secured by a firs...|          1|            NULL|       NULL|        2084821|      3640|  35.40999984741211|                   92600|    87.16000366210938|                          1094|                         1433|                         0|\n",
            "|      2007|   54-1779092|Department of Hou...|        HUD|          7|  Conventional|        1|Manufactured housing|            2|    Home purchase|           1|Owner-occupied as...|              1|              83|Preapproval was r...|          1|Application denie...|           3|San Diego, Carlsb...|41740|California|        CA|         6|  San Diego County|         73|             169.01|    Not Hispanic or L...|                  2|       Not Hispanic or L...|                     2|                White|               5|                 NULL|            NULL|                 NULL|            NULL|                 NULL|            NULL|                 NULL|            NULL|                   White|                  5|                    NULL|               NULL|                    NULL|               NULL|                    NULL|               NULL|                    NULL|               NULL|              Female|            2|                 Male|               1|                   70|Loan was not orig...|             0|                NULL|           NULL|                NULL|           NULL|                NULL|           NULL|       NULL| Not a HOEPA loan|           2|Secured by a firs...|          1|            NULL|       NULL|          35636|      6892| 18.989999771118164|                   69400|   108.81999969482422|                          1798|                         2288|                         0|\n",
            "|      2007|   0000002711|Federal Deposit I...|       FDIC|          3|  Conventional|        1|One-to-four famil...|            1|    Home purchase|           1|Owner-occupied as...|              1|             339|      Not applicable|          3|     Loan originated|           1|Lexington, Fayett...|30460|  Kentucky|        KY|        21|    Fayette County|         67|              42.02|    Not Hispanic or L...|                  2|       Not Hispanic or L...|                     2|                White|               5|                 NULL|            NULL|                 NULL|            NULL|                 NULL|            NULL|                 NULL|            NULL|                   White|                  5|                    NULL|               NULL|                    NULL|               NULL|                    NULL|               NULL|                    NULL|               NULL|                Male|            1|               Female|               2|                  270|Life insurance co...|             7|                NULL|           NULL|                NULL|           NULL|                NULL|           NULL|       NULL| Not a HOEPA loan|           2|Secured by a firs...|          1|            NULL|       NULL|            834|      8398|  9.449999809265137|                   59800|   175.58999633789062|                          2541|                         2857|                         0|\n",
            "+----------+-------------+--------------------+-----------+-----------+--------------+---------+--------------------+-------------+-----------------+------------+--------------------+---------------+----------------+--------------------+-----------+--------------------+------------+--------------------+-----+----------+----------+----------+------------------+-----------+-------------------+------------------------+-------------------+---------------------------+----------------------+---------------------+----------------+---------------------+----------------+---------------------+----------------+---------------------+----------------+---------------------+----------------+------------------------+-------------------+------------------------+-------------------+------------------------+-------------------+------------------------+-------------------+------------------------+-------------------+--------------------+-------------+---------------------+----------------+---------------------+--------------------+--------------+--------------------+---------------+--------------------+---------------+--------------------+---------------+-----------+-----------------+------------+--------------------+-----------+----------------+-----------+---------------+----------+-------------------+------------------------+---------------------+------------------------------+-----------------------------+--------------------------+\n",
            "only showing top 10 rows\n",
            "\n"
          ]
        }
      ]
    },
    {
      "cell_type": "code",
      "source": [
        "df.describe()"
      ],
      "metadata": {
        "colab": {
          "base_uri": "https://localhost:8080/"
        },
        "id": "h4OIDT59-lTQ",
        "outputId": "c7e4ff2c-7162-4168-99b8-c3788d6e6d9f"
      },
      "execution_count": 5,
      "outputs": [
        {
          "output_type": "execute_result",
          "data": {
            "text/plain": [
              "DataFrame[summary: string, as_of_year: string, respondent_id: string, agency_name: string, agency_abbr: string, agency_code: string, loan_type_name: string, loan_type: string, property_type_name: string, property_type: string, loan_purpose_name: string, loan_purpose: string, owner_occupancy_name: string, owner_occupancy: string, loan_amount_000s: string, preapproval_name: string, preapproval: string, action_taken_name: string, action_taken: string, msamd_name: string, msamd: string, state_name: string, state_abbr: string, state_code: string, county_name: string, county_code: string, census_tract_number: string, applicant_ethnicity_name: string, applicant_ethnicity: string, co_applicant_ethnicity_name: string, co_applicant_ethnicity: string, applicant_race_name_1: string, applicant_race_1: string, applicant_race_name_2: string, applicant_race_2: string, applicant_race_name_3: string, applicant_race_3: string, applicant_race_name_4: string, applicant_race_4: string, applicant_race_name_5: string, applicant_race_5: string, co_applicant_race_name_1: string, co_applicant_race_1: string, co_applicant_race_name_2: string, co_applicant_race_2: string, co_applicant_race_name_3: string, co_applicant_race_3: string, co_applicant_race_name_4: string, co_applicant_race_4: string, co_applicant_race_name_5: string, co_applicant_race_5: string, applicant_sex_name: string, applicant_sex: string, co_applicant_sex_name: string, co_applicant_sex: string, applicant_income_000s: string, purchaser_type_name: string, purchaser_type: string, denial_reason_name_1: string, denial_reason_1: string, denial_reason_name_2: string, denial_reason_2: string, denial_reason_name_3: string, denial_reason_3: string, rate_spread: string, hoepa_status_name: string, hoepa_status: string, lien_status_name: string, lien_status: string, edit_status_name: string, edit_status: string, sequence_number: string, population: string, minority_population: string, hud_median_family_income: string, tract_to_msamd_income: string, number_of_owner_occupied_units: string, number_of_1_to_4_family_units: string, application_date_indicator: string]"
            ]
          },
          "metadata": {},
          "execution_count": 5
        }
      ]
    },
    {
      "cell_type": "code",
      "source": [
        "df.printSchema()"
      ],
      "metadata": {
        "colab": {
          "base_uri": "https://localhost:8080/"
        },
        "id": "ASBrba0IaykB",
        "outputId": "c8c31a94-351b-474f-9733-b5492febabe3"
      },
      "execution_count": 6,
      "outputs": [
        {
          "output_type": "stream",
          "name": "stdout",
          "text": [
            "root\n",
            " |-- as_of_year: integer (nullable = true)\n",
            " |-- respondent_id: string (nullable = true)\n",
            " |-- agency_name: string (nullable = true)\n",
            " |-- agency_abbr: string (nullable = true)\n",
            " |-- agency_code: integer (nullable = true)\n",
            " |-- loan_type_name: string (nullable = true)\n",
            " |-- loan_type: integer (nullable = true)\n",
            " |-- property_type_name: string (nullable = true)\n",
            " |-- property_type: integer (nullable = true)\n",
            " |-- loan_purpose_name: string (nullable = true)\n",
            " |-- loan_purpose: integer (nullable = true)\n",
            " |-- owner_occupancy_name: string (nullable = true)\n",
            " |-- owner_occupancy: integer (nullable = true)\n",
            " |-- loan_amount_000s: integer (nullable = true)\n",
            " |-- preapproval_name: string (nullable = true)\n",
            " |-- preapproval: integer (nullable = true)\n",
            " |-- action_taken_name: string (nullable = true)\n",
            " |-- action_taken: integer (nullable = true)\n",
            " |-- msamd_name: string (nullable = true)\n",
            " |-- msamd: integer (nullable = true)\n",
            " |-- state_name: string (nullable = true)\n",
            " |-- state_abbr: string (nullable = true)\n",
            " |-- state_code: integer (nullable = true)\n",
            " |-- county_name: string (nullable = true)\n",
            " |-- county_code: integer (nullable = true)\n",
            " |-- census_tract_number: double (nullable = true)\n",
            " |-- applicant_ethnicity_name: string (nullable = true)\n",
            " |-- applicant_ethnicity: integer (nullable = true)\n",
            " |-- co_applicant_ethnicity_name: string (nullable = true)\n",
            " |-- co_applicant_ethnicity: integer (nullable = true)\n",
            " |-- applicant_race_name_1: string (nullable = true)\n",
            " |-- applicant_race_1: integer (nullable = true)\n",
            " |-- applicant_race_name_2: string (nullable = true)\n",
            " |-- applicant_race_2: integer (nullable = true)\n",
            " |-- applicant_race_name_3: string (nullable = true)\n",
            " |-- applicant_race_3: integer (nullable = true)\n",
            " |-- applicant_race_name_4: string (nullable = true)\n",
            " |-- applicant_race_4: integer (nullable = true)\n",
            " |-- applicant_race_name_5: string (nullable = true)\n",
            " |-- applicant_race_5: integer (nullable = true)\n",
            " |-- co_applicant_race_name_1: string (nullable = true)\n",
            " |-- co_applicant_race_1: integer (nullable = true)\n",
            " |-- co_applicant_race_name_2: string (nullable = true)\n",
            " |-- co_applicant_race_2: integer (nullable = true)\n",
            " |-- co_applicant_race_name_3: string (nullable = true)\n",
            " |-- co_applicant_race_3: integer (nullable = true)\n",
            " |-- co_applicant_race_name_4: string (nullable = true)\n",
            " |-- co_applicant_race_4: integer (nullable = true)\n",
            " |-- co_applicant_race_name_5: string (nullable = true)\n",
            " |-- co_applicant_race_5: integer (nullable = true)\n",
            " |-- applicant_sex_name: string (nullable = true)\n",
            " |-- applicant_sex: integer (nullable = true)\n",
            " |-- co_applicant_sex_name: string (nullable = true)\n",
            " |-- co_applicant_sex: integer (nullable = true)\n",
            " |-- applicant_income_000s: integer (nullable = true)\n",
            " |-- purchaser_type_name: string (nullable = true)\n",
            " |-- purchaser_type: integer (nullable = true)\n",
            " |-- denial_reason_name_1: string (nullable = true)\n",
            " |-- denial_reason_1: integer (nullable = true)\n",
            " |-- denial_reason_name_2: string (nullable = true)\n",
            " |-- denial_reason_2: integer (nullable = true)\n",
            " |-- denial_reason_name_3: string (nullable = true)\n",
            " |-- denial_reason_3: integer (nullable = true)\n",
            " |-- rate_spread: double (nullable = true)\n",
            " |-- hoepa_status_name: string (nullable = true)\n",
            " |-- hoepa_status: integer (nullable = true)\n",
            " |-- lien_status_name: string (nullable = true)\n",
            " |-- lien_status: integer (nullable = true)\n",
            " |-- edit_status_name: string (nullable = true)\n",
            " |-- edit_status: integer (nullable = true)\n",
            " |-- sequence_number: integer (nullable = true)\n",
            " |-- population: integer (nullable = true)\n",
            " |-- minority_population: double (nullable = true)\n",
            " |-- hud_median_family_income: integer (nullable = true)\n",
            " |-- tract_to_msamd_income: double (nullable = true)\n",
            " |-- number_of_owner_occupied_units: integer (nullable = true)\n",
            " |-- number_of_1_to_4_family_units: integer (nullable = true)\n",
            " |-- application_date_indicator: integer (nullable = true)\n",
            "\n"
          ]
        }
      ]
    },
    {
      "cell_type": "code",
      "source": [
        "# Use a sample of the data to speed up processing\n",
        "#df_sample = df.sample(False, 0.1)\n"
      ],
      "metadata": {
        "id": "x154rthnXqZg"
      },
      "execution_count": 32,
      "outputs": []
    },
    {
      "cell_type": "code",
      "source": [
        "#df_sample.describe().show()"
      ],
      "metadata": {
        "colab": {
          "base_uri": "https://localhost:8080/"
        },
        "id": "D4nWx5tZBO_2",
        "outputId": "202a4ef2-191e-4b16-9bff-7998d622bf9d"
      },
      "execution_count": 33,
      "outputs": [
        {
          "output_type": "stream",
          "name": "stdout",
          "text": [
            "+-------+------------------+--------------------+--------------------+-----------+------------------+--------------+------------------+--------------------+-------------------+-----------------+------------------+--------------------+------------------+-----------------+--------------------+------------------+--------------------+------------------+------------+------------------+----------+----------+------------------+----------------+-----------------+-------------------+------------------------+-------------------+---------------------------+----------------------+---------------------+------------------+---------------------+------------------+---------------------+-----------------+---------------------+------------------+---------------------+------------------+------------------------+-------------------+------------------------+-------------------+------------------------+-------------------+------------------------+-------------------+------------------------+-------------------+------------------+------------------+---------------------+------------------+---------------------+--------------------+------------------+--------------------+-----------------+--------------------+------------------+--------------------+------------------+-----------------+-----------------+--------------------+--------------------+------------------+--------------------+-----------+------------------+-----------------+-------------------+------------------------+---------------------+------------------------------+-----------------------------+--------------------------+\n",
            "|summary|        as_of_year|       respondent_id|         agency_name|agency_abbr|       agency_code|loan_type_name|         loan_type|  property_type_name|      property_type|loan_purpose_name|      loan_purpose|owner_occupancy_name|   owner_occupancy| loan_amount_000s|    preapproval_name|       preapproval|   action_taken_name|      action_taken|  msamd_name|             msamd|state_name|state_abbr|        state_code|     county_name|      county_code|census_tract_number|applicant_ethnicity_name|applicant_ethnicity|co_applicant_ethnicity_name|co_applicant_ethnicity|applicant_race_name_1|  applicant_race_1|applicant_race_name_2|  applicant_race_2|applicant_race_name_3| applicant_race_3|applicant_race_name_4|  applicant_race_4|applicant_race_name_5|  applicant_race_5|co_applicant_race_name_1|co_applicant_race_1|co_applicant_race_name_2|co_applicant_race_2|co_applicant_race_name_3|co_applicant_race_3|co_applicant_race_name_4|co_applicant_race_4|co_applicant_race_name_5|co_applicant_race_5|applicant_sex_name|     applicant_sex|co_applicant_sex_name|  co_applicant_sex|applicant_income_000s| purchaser_type_name|    purchaser_type|denial_reason_name_1|  denial_reason_1|denial_reason_name_2|   denial_reason_2|denial_reason_name_3|   denial_reason_3|      rate_spread|hoepa_status_name|        hoepa_status|    lien_status_name|       lien_status|    edit_status_name|edit_status|   sequence_number|       population|minority_population|hud_median_family_income|tract_to_msamd_income|number_of_owner_occupied_units|number_of_1_to_4_family_units|application_date_indicator|\n",
            "+-------+------------------+--------------------+--------------------+-----------+------------------+--------------+------------------+--------------------+-------------------+-----------------+------------------+--------------------+------------------+-----------------+--------------------+------------------+--------------------+------------------+------------+------------------+----------+----------+------------------+----------------+-----------------+-------------------+------------------------+-------------------+---------------------------+----------------------+---------------------+------------------+---------------------+------------------+---------------------+-----------------+---------------------+------------------+---------------------+------------------+------------------------+-------------------+------------------------+-------------------+------------------------+-------------------+------------------------+-------------------+------------------------+-------------------+------------------+------------------+---------------------+------------------+---------------------+--------------------+------------------+--------------------+-----------------+--------------------+------------------+--------------------+------------------+-----------------+-----------------+--------------------+--------------------+------------------+--------------------+-----------+------------------+-----------------+-------------------+------------------------+---------------------+------------------------------+-----------------------------+--------------------------+\n",
            "|  count|            187454|              187454|              187454|     187454|            187454|        187454|            187454|              187454|             187454|           187454|            187454|              187454|            187454|           187446|              187454|            187454|              187454|            187454|      161362|            161365|    183433|    183433|            183433|          182875|           182878|             182383|                  187454|             187454|                     187454|                187454|               187454|            187454|                  770|               770|                   49|               49|                   15|                15|                   11|                11|                  187454|             187454|                     313|                313|                      17|                 17|                       1|                  1|                       4|                  4|            187454|            187454|               187454|            187454|               164055|              187454|            187454|               23681|            23681|                4721|              4721|                 988|               988|             6328|           187454|              187454|              187454|            187454|               32650|      32650|            173164|           182369|             182368|                  182381|               182333|                        182288|                       182327|                    173164|\n",
            "|   mean|2011.5348352129056|  9.03558067833602E8|                NULL|       NULL| 5.387401709219328|          NULL|1.3315320025179511|                NULL|   1.03298942673936|             NULL|2.1462332092139937|                NULL|1.1024197936560436|215.6645593931052|                NULL|2.8301023184354563|                NULL| 2.729010850662029|        NULL|30536.888123198958|      NULL|      NULL|27.325911913341656|            NULL|84.49957895427553|  2338.247663378783|                    NULL|  2.211972003798265|                       NULL|    3.6484097431903293|                 NULL|  5.00618285019258|                 NULL| 4.167532467532467|                 NULL|4.061224489795919|                 NULL| 4.066666666666666|                 NULL| 4.636363636363637|                    NULL|  6.568523477759877|                    NULL|  4.300319488817891|                    NULL|  4.529411764705882|                    NULL|                4.0|                    NULL|                2.0|              NULL|1.6585455631781665|                 NULL|3.5826389407534647|   105.09340769863765|                NULL| 1.834268673914667|                NULL|4.043156961276973|                NULL| 4.636094047871214|                NULL| 5.494939271255061|3.805733249051833|             NULL|  1.9997546064634524|                NULL|1.6015715855623247|                NULL|        6.0|224043.30527707838|5551.187636056567| 28.080228109476153|       67584.57679253869|   114.87470234624888|            1487.1294709470728|            1929.598419323523|        0.3827758656533691|\n",
            "| stddev| 3.245596088302421|2.2549450817471094E9|                NULL|       NULL|2.9683872344394655|          NULL|0.6519847016197882|                NULL|0.19373875903750667|             NULL| 0.957453681369407|                NULL|0.3167784400480257|600.7668193763503|                NULL|0.4562974724719333|                NULL|1.9740063331733464|        NULL|11343.177551037985|      NULL|      NULL|16.693600561540215|            NULL|99.48065327230736|  3287.832310168426|                    NULL| 0.7194613569881406|                       NULL|    1.4489783421276012|                 NULL|1.1173313689510134|                 NULL|1.2978868048648455|                 NULL|1.265045507503355|                 NULL|0.7037315505489968|                 NULL|1.2060453783110545|                    NULL| 1.6233712685053383|                    NULL| 1.2059813113148823|                    NULL| 0.7998161553463028|                    NULL|               NULL|                    NULL|                2.0|              NULL|0.9523365015049767|                 NULL|1.5268318524274154|   272.82361664889856|                NULL|2.7127531887203356|                NULL|2.508060431442834|                NULL|2.7988651443465202|                NULL|2.8268101850040854|2.028487879803248|             NULL|0.015663161473096182|                NULL|1.1481359575037757|                NULL|        0.0|  424821.314176787|2767.104148713091| 25.637045828605252|      14466.829267767178|    39.80068024633009|             806.2392100575747|            995.8963442833276|        0.8067539268465587|\n",
            "|    min|              2007|          00-1440906|Consumer Financia...|       CFPB|                 1|  Conventional|                 1|Manufactured housing|                  1| Home improvement|                 1|      Not applicable|                 1|                1|      Not applicable|                 1|Application appro...|                 1|Abilene - TX|             10180|   Alabama|        AK|                 1|Abbeville County|                1|                1.0|      Hispanic or Latino|                  1|         Hispanic or Latino|                     1| American Indian o...|                 1| American Indian o...|                 1| American Indian o...|                1|                Asian|                 2| American Indian o...|                 1|    American Indian o...|                  1|    American Indian o...|                  1|    Black or African ...|                  3|    Native Hawaiian o...|                  4|    American Indian o...|                  1|            Female|                 1|               Female|                 1|                    1|Affiliate institu...|                 0|          Collateral|                1|          Collateral|                 1|          Collateral|                 1|              1.5|       HOEPA loan|                   1|      Not applicable|                 1|Quality edit fail...|          6|                 1|                0|                0.0|                   15400|                  0.0|                             0|                            0|                         0|\n",
            "|    max|              2017|          9900000375|Office of the Com...|        OTS|                 9| VA-guaranteed|                 4|One-to-four famil...|                  3|      Refinancing|                 3|Owner-occupied as...|                 3|            96764|Preapproval was r...|                 3|Preapproval reque...|                 8|   Yuma - AZ|             49740|   Wyoming|        WY|                72|   Zavala County|              840|             9988.0|          Not applicable|                  4|             Not applicable|                     5|                White|                 7|                White|                 5|                White|                5|                White|                 5|                White|                 5|                   White|                  8|                   White|                  5|                   White|                  5|    Native Hawaiian o...|                  4|                   White|                  5|    Not applicable|                 4|       Not applicable|                 5|                90000|Private securitiz...|                 9|Unverifiable info...|                9|Unverifiable info...|                 9|Unverifiable info...|                 9|            17.55| Not a HOEPA loan|                   2|Secured by a subo...|                 4|Quality edit fail...|          6|           3140142|            53812|              100.0|                  131500|   496.70001220703125|                         19529|                        25391|                         3|\n",
            "+-------+------------------+--------------------+--------------------+-----------+------------------+--------------+------------------+--------------------+-------------------+-----------------+------------------+--------------------+------------------+-----------------+--------------------+------------------+--------------------+------------------+------------+------------------+----------+----------+------------------+----------------+-----------------+-------------------+------------------------+-------------------+---------------------------+----------------------+---------------------+------------------+---------------------+------------------+---------------------+-----------------+---------------------+------------------+---------------------+------------------+------------------------+-------------------+------------------------+-------------------+------------------------+-------------------+------------------------+-------------------+------------------------+-------------------+------------------+------------------+---------------------+------------------+---------------------+--------------------+------------------+--------------------+-----------------+--------------------+------------------+--------------------+------------------+-----------------+-----------------+--------------------+--------------------+------------------+--------------------+-----------+------------------+-----------------+-------------------+------------------------+---------------------+------------------------------+-----------------------------+--------------------------+\n",
            "\n"
          ]
        }
      ]
    },
    {
      "cell_type": "code",
      "source": [
        "from pyspark.sql import DataFrame\n",
        "import pyspark.sql.functions as sqlfunc\n",
        "\n",
        "def show_income_and_approval_metrics(df: DataFrame, group_by_columns):\n",
        "    \"\"\"\n",
        "    Displays income metrics and loan approval rates for given columns in the DataFrame.\n",
        "\n",
        "    Parameters:\n",
        "    - df: The DataFrame to process.\n",
        "    - group_by_columns: A single column name or a list of column names to group by.\n",
        "\n",
        "    Returns:\n",
        "    - Displays the average, minimum, and maximum applicant income, and loan approval rates for the specified groups.\n",
        "    \"\"\"\n",
        "    if isinstance(group_by_columns, str):\n",
        "        group_by_columns = [group_by_columns]  # Ensure it is a list even if a single column name is provided\n",
        "\n",
        "    # Group by the specified columns and aggregate the required metrics\n",
        "    metrics = df.groupBy(*group_by_columns).agg(\n",
        "        sqlfunc.avg('applicant_income_000s').alias('avg_applicant_income_000s'),\n",
        "        sqlfunc.min('applicant_income_000s').alias('min_applicant_income_000s'),\n",
        "        sqlfunc.max('applicant_income_000s').alias('max_applicant_income_000s'),\n",
        "        sqlfunc.count('action_taken_name').alias('total_applications'),\n",
        "        sqlfunc.count(sqlfunc.when(df['action_taken_name'] == 'Loan originated', True)).alias('approved_applications')\n",
        "    )\n",
        "\n",
        "    # Calculate the approval rate\n",
        "    metrics = metrics.withColumn(\n",
        "        'approval_rate',\n",
        "        metrics['approved_applications'] / metrics['total_applications']\n",
        "    )\n",
        "\n",
        "    # Show the results\n",
        "    metrics.show(100)\n",
        "\n",
        "# Usage of the function\n",
        "show_income_and_approval_metrics(df, \"applicant_sex_name\")  # Show metrics by gender\n",
        "show_income_and_approval_metrics(df, [\"applicant_race_name_1\"])  # Show metrics by race\n",
        "\n"
      ],
      "metadata": {
        "colab": {
          "base_uri": "https://localhost:8080/"
        },
        "id": "QM75lvfHcPcY",
        "outputId": "2c047a0e-a3b6-48a5-9016-b5108720a363"
      },
      "execution_count": 7,
      "outputs": [
        {
          "output_type": "stream",
          "name": "stdout",
          "text": [
            "+--------------------+-------------------------+-------------------------+-------------------------+------------------+---------------------+-------------------+\n",
            "|  applicant_sex_name|avg_applicant_income_000s|min_applicant_income_000s|max_applicant_income_000s|total_applications|approved_applications|      approval_rate|\n",
            "+--------------------+-------------------------+-------------------------+-------------------------+------------------+---------------------+-------------------+\n",
            "|Information not p...|       122.74530286879548|                        1|                    18938|            118539|                50325| 0.4245438210209298|\n",
            "|              Female|         81.3562202765162|                        1|                   109000|            476603|               236291|0.49578160439611163|\n",
            "|      Not applicable|       113.10091723083643|                        1|                     9999|            174972|                11974|0.06843380655190545|\n",
            "|                Male|       112.66907427865712|                        1|                   133422|           1104514|               592753|  0.536664089364191|\n",
            "+--------------------+-------------------------+-------------------------+-------------------------+------------------+---------------------+-------------------+\n",
            "\n",
            "+---------------------+-------------------------+-------------------------+-------------------------+------------------+---------------------+-------------------+\n",
            "|applicant_race_name_1|avg_applicant_income_000s|min_applicant_income_000s|max_applicant_income_000s|total_applications|approved_applications|      approval_rate|\n",
            "+---------------------+-------------------------+-------------------------+-------------------------+------------------+---------------------+-------------------+\n",
            "| Information not p...|       116.47671707345063|                        1|                    18938|            209704|                88604| 0.4225193606225918|\n",
            "|       Not applicable|       113.18790142875868|                        1|                     9999|            174985|                11928|0.06816584278652456|\n",
            "|                White|       103.83093245541286|                        1|                   133422|           1266671|               690887| 0.5454352393004971|\n",
            "|                Asian|       129.99814196399427|                        1|                    90000|             83268|                45288| 0.5438824038045827|\n",
            "| Black or African ...|        75.06815850218004|                        1|                    10517|            120078|                46282| 0.3854328020120255|\n",
            "| Native Hawaiian o...|        97.85163417431193|                        1|                     8556|              7532|                 3369| 0.4472915560276155|\n",
            "| American Indian o...|        85.73556780975358|                        1|                     9999|             12390|                 4985| 0.4023405972558515|\n",
            "+---------------------+-------------------------+-------------------------+-------------------------+------------------+---------------------+-------------------+\n",
            "\n"
          ]
        }
      ]
    },
    {
      "cell_type": "code",
      "source": [
        "show_income_and_approval_metrics(df, [\"applicant_sex_name\", \"applicant_race_name_1\"])  # Show metrics by gender and race\n"
      ],
      "metadata": {
        "colab": {
          "base_uri": "https://localhost:8080/"
        },
        "id": "NuOYGRgzFrCY",
        "outputId": "f714fce0-4ce6-4aa6-d413-e867a823ecf3"
      },
      "execution_count": 8,
      "outputs": [
        {
          "output_type": "stream",
          "name": "stdout",
          "text": [
            "+--------------------+---------------------+-------------------------+-------------------------+-------------------------+------------------+---------------------+-------------------+\n",
            "|  applicant_sex_name|applicant_race_name_1|avg_applicant_income_000s|min_applicant_income_000s|max_applicant_income_000s|total_applications|approved_applications|      approval_rate|\n",
            "+--------------------+---------------------+-------------------------+-------------------------+-------------------------+------------------+---------------------+-------------------+\n",
            "|                Male|                White|        112.7966231709627|                        1|                   133422|            902932|               500866|  0.554710653736937|\n",
            "|Information not p...|       Not applicable|       1081.4444444444443|                       28|                     7907|                16|                    9|             0.5625|\n",
            "|Information not p...|                Asian|       123.67450980392157|                        5|                     1002|               269|                  121|0.44981412639405205|\n",
            "|Information not p...| Native Hawaiian o...|        124.6969696969697|                        5|                      715|                37|                   13|0.35135135135135137|\n",
            "|                Male| Native Hawaiian o...|       104.58620689655173|                        1|                     8556|              4996|                 2291|0.45856685348278625|\n",
            "|              Female|       Not applicable|                    76.25|                       17|                      260|                67|                    6|0.08955223880597014|\n",
            "|              Female| Black or African ...|        64.61912798316324|                        1|                    10517|             54788|                20477|0.37374972621741986|\n",
            "|Information not p...| Black or African ...|        77.69674185463658|                        9|                     1231|               427|                  116| 0.2716627634660422|\n",
            "|                Male| American Indian o...|        90.56961856495066|                        1|                     9999|              8019|                 3295| 0.4108991146028183|\n",
            "|      Not applicable|                White|                    146.8|                        4|                     1132|                46|                   18|  0.391304347826087|\n",
            "|              Female|                White|         81.4690779637718|                        1|                   109000|            360212|               188590| 0.5235527966863958|\n",
            "|                Male| Black or African ...|        84.05005051283368|                        1|                     9999|             64846|                25685| 0.3960922801714832|\n",
            "|      Not applicable| Black or African ...|       187.66666666666666|                       17|                      752|                17|                    4|0.23529411764705882|\n",
            "|      Not applicable|       Not applicable|       113.07226934964162|                        1|                     9999|            174724|                11896| 0.0680845218744992|\n",
            "|              Female| American Indian o...|        73.87282941777323|                        1|                     3100|              4158|                 1568| 0.3771043771043771|\n",
            "|      Not applicable|                Asian|                    142.0|                       49|                      216|                 4|                    1|               0.25|\n",
            "|              Female| Native Hawaiian o...|        84.13642213642214|                        1|                     1000|              2495|                 1064|0.42645290581162326|\n",
            "|Information not p...| Information not p...|       123.48413501865618|                        1|                    18938|            114097|                48532| 0.4253573713594573|\n",
            "|              Female| Information not p...|        86.84693259187965|                        1|                     8736|             30327|                11818| 0.3896857585649751|\n",
            "|Information not p...|                White|       101.18059792556437|                        4|                     2939|              3481|                 1413| 0.4059178397012353|\n",
            "|                Male|                Asian|       138.27809500017844|                        1|                    90000|             58439|                32398|   0.55439004774209|\n",
            "|              Female|                Asian|       110.19645456881048|                        1|                     9334|             24556|                12768| 0.5199543899657925|\n",
            "|                Male| Information not p...|       118.23392301775742|                        1|                     9999|             65104|                28201| 0.4331684689112804|\n",
            "|                Male|       Not applicable|         93.6574074074074|                       17|                      520|               178|                   17|0.09550561797752809|\n",
            "|      Not applicable| Information not p...|       111.13178294573643|                        2|                     1754|               176|                   53|0.30113636363636365|\n",
            "|Information not p...| American Indian o...|                138.90625|                        1|                     3069|               212|                  121| 0.5707547169811321|\n",
            "|      Not applicable| Native Hawaiian o...|                    129.0|                      129|                      129|                 4|                    1|               0.25|\n",
            "|      Not applicable| American Indian o...|                     NULL|                     NULL|                     NULL|                 1|                    1|                1.0|\n",
            "+--------------------+---------------------+-------------------------+-------------------------+-------------------------+------------------+---------------------+-------------------+\n",
            "\n"
          ]
        }
      ]
    },
    {
      "cell_type": "code",
      "source": [
        "from pyspark.sql.functions import col, when, count\n",
        "\n",
        "# Calculate the number of applicants and loan approvals for each demographic group\n",
        "demographics = ['applicant_ethnicity_name', 'applicant_sex_name',]\n",
        "# To include loan amount, we can bin values to make categorical, I won't do that for now but it can be done\n",
        "\n",
        "df_demographics = df.select(demographics + ['action_taken_name'])\n",
        "\n",
        "# Group by demographic and calculate counts\n",
        "df_demographics_grouped = df_demographics.groupBy(*demographics).agg(\n",
        "    count('action_taken_name').alias('total_applications'),\n",
        "    count(when(df_demographics['action_taken_name'] == 'Loan originated', True)).alias('approved_applications')\n",
        ")\n",
        "\n",
        "# Calculate loan approval rates for each demographic group\n",
        "df_demographics_grouped = df_demographics_grouped.withColumn(\n",
        "    'approval_rate', df_demographics_grouped['approved_applications'] / df_demographics_grouped['total_applications']\n",
        ")\n",
        "\n",
        "# Display the results\n",
        "df_demographics_grouped.orderBy(df_demographics_grouped[\"approval_rate\"].desc()).show()"
      ],
      "metadata": {
        "colab": {
          "base_uri": "https://localhost:8080/"
        },
        "id": "v6YU2aH-cPfF",
        "outputId": "d21858ad-ce8e-4f99-a28b-39affe403522"
      },
      "execution_count": 9,
      "outputs": [
        {
          "output_type": "stream",
          "name": "stdout",
          "text": [
            "+------------------------+--------------------+------------------+---------------------+-------------------+\n",
            "|applicant_ethnicity_name|  applicant_sex_name|total_applications|approved_applications|      approval_rate|\n",
            "+------------------------+--------------------+------------------+---------------------+-------------------+\n",
            "|    Not Hispanic or L...|      Not applicable|                36|                   22| 0.6111111111111112|\n",
            "|    Not Hispanic or L...|                Male|            938537|               518927| 0.5529105405540751|\n",
            "|    Not Hispanic or L...|              Female|            400575|               205072| 0.5119440803844474|\n",
            "|      Hispanic or Latino|      Not applicable|                 6|                    3|                0.5|\n",
            "|      Hispanic or Latino|                Male|            105917|                47835|0.45162721753826107|\n",
            "|    Information not p...|                Male|             59674|                25901| 0.4340416261688508|\n",
            "|      Hispanic or Latino|              Female|             47530|                20241| 0.4258573532505786|\n",
            "|    Information not p...|Information not p...|            113811|                48392|0.42519615854355025|\n",
            "|    Not Hispanic or L...|Information not p...|              4144|                 1723| 0.4157818532818533|\n",
            "|    Information not p...|              Female|             28315|                10928| 0.3859438460180116|\n",
            "|      Hispanic or Latino|Information not p...|               531|                  195| 0.3672316384180791|\n",
            "|    Information not p...|      Not applicable|                34|                   10|0.29411764705882354|\n",
            "|          Not applicable|Information not p...|                53|                   15| 0.2830188679245283|\n",
            "|          Not applicable|              Female|               183|                   50|  0.273224043715847|\n",
            "|          Not applicable|                Male|               386|                   90|0.23316062176165803|\n",
            "|          Not applicable|      Not applicable|            174896|                11939|0.06826342512121489|\n",
            "+------------------------+--------------------+------------------+---------------------+-------------------+\n",
            "\n"
          ]
        }
      ]
    },
    {
      "cell_type": "code",
      "source": [
        "# Calculate the number of applicants and loan approvals for each product\n",
        "product_type = ['as_of_year', 'loan_type_name',]\n",
        "df_product_type = df.select(product_type + ['action_taken_name'])\n",
        "\n",
        "# Group by products and calculate counts\n",
        "df_product_type_grouped = df_product_type.groupBy(*product_type).agg(\n",
        "    count('action_taken_name').alias('total_applications'),\n",
        "    count(when(df_product_type['action_taken_name'] == 'Loan originated', True)).alias('approved_applications')\n",
        ")\n",
        "\n",
        "# Calculate loan approval rates for each product group\n",
        "df_product_type_grouped = df_product_type_grouped.withColumn(\n",
        "    'approval_rate', df_product_type_grouped['approved_applications'] / df_product_type_grouped['total_applications']\n",
        ")\n",
        "\n",
        "# Display the results\n",
        "df_product_type_grouped.orderBy(df_product_type_grouped[\"as_of_year\"].desc()).show(250)"
      ],
      "metadata": {
        "colab": {
          "base_uri": "https://localhost:8080/"
        },
        "id": "wKRLV6PscPhb",
        "outputId": "49781824-8fdb-411c-ce22-ce41c7b6f671"
      },
      "execution_count": 10,
      "outputs": [
        {
          "output_type": "stream",
          "name": "stdout",
          "text": [
            "+----------+------------------+------------------+---------------------+-------------------+\n",
            "|as_of_year|    loan_type_name|total_applications|approved_applications|      approval_rate|\n",
            "+----------+------------------+------------------+---------------------+-------------------+\n",
            "|      2017|       FHA-insured|             26457|                11463|0.43326907812677173|\n",
            "|      2017|FSA/RHS-guaranteed|              2677|                 1220| 0.4557340306313037|\n",
            "|      2017|      Conventional|             99470|                53951| 0.5423846385844978|\n",
            "|      2017|     VA-guaranteed|             14251|                 6607| 0.4636165883095923|\n",
            "|      2016|     VA-guaranteed|             16545|                 7946| 0.4802659413720157|\n",
            "|      2016|       FHA-insured|             30646|                13303|0.43408601448802453|\n",
            "|      2016|FSA/RHS-guaranteed|              2773|                 1238| 0.4464478903714389|\n",
            "|      2016|      Conventional|            113366|                61282|   0.54056771871637|\n",
            "|      2015|       FHA-insured|             28410|                12253| 0.4312917986624428|\n",
            "|      2015|      Conventional|             99833|                54388| 0.5447897989642704|\n",
            "|      2015|FSA/RHS-guaranteed|              2753|                 1209| 0.4391572829640392|\n",
            "|      2015|     VA-guaranteed|             12746|                 6089|  0.477718499921544|\n",
            "|      2014|      Conventional|             87295|                46096| 0.5280485709376253|\n",
            "|      2014|FSA/RHS-guaranteed|              3203|                 1294| 0.4039962535123322|\n",
            "|      2014|     VA-guaranteed|             10383|                 4939| 0.4756814022922084|\n",
            "|      2014|       FHA-insured|             19613|                 7773| 0.3963187681639729|\n",
            "|      2013|FSA/RHS-guaranteed|              3478|                 1452|0.41748131109833236|\n",
            "|      2013|     VA-guaranteed|             10967|                 5390|0.49147442326980945|\n",
            "|      2013|      Conventional|            128088|                69186| 0.5401442758103804|\n",
            "|      2013|       FHA-insured|             27629|                11159| 0.4038872199500525|\n",
            "|      2012|      Conventional|            139754|                77584| 0.5551469009831561|\n",
            "|      2012|       FHA-insured|             32355|                13087|  0.404481532993355|\n",
            "|      2012|     VA-guaranteed|             11587|                 6020| 0.5195477690515232|\n",
            "|      2012|FSA/RHS-guaranteed|              3220|                 1291| 0.4009316770186335|\n",
            "|      2011|      Conventional|            108711|                55263| 0.5083478212876342|\n",
            "|      2011|     VA-guaranteed|              8278|                 3806| 0.4597728920028992|\n",
            "|      2011|       FHA-insured|             28976|                10756|0.37120375483158474|\n",
            "|      2011|FSA/RHS-guaranteed|              2770|                 1152|0.41588447653429605|\n",
            "|      2010|FSA/RHS-guaranteed|              2127|                  895| 0.4207804419370005|\n",
            "|      2010|      Conventional|            116215|                60229| 0.5182549584821237|\n",
            "|      2010|       FHA-insured|             37913|                14200|0.37454171392398383|\n",
            "|      2010|     VA-guaranteed|              7231|                 3200|0.44253906790208825|\n",
            "|      2009|FSA/RHS-guaranteed|              2734|                 1234|  0.451353328456474|\n",
            "|      2009|     VA-guaranteed|              7621|                 3571|0.46857367799501376|\n",
            "|      2009|       FHA-insured|             47886|                18636| 0.3891742889362235|\n",
            "|      2009|      Conventional|            136694|                66130|0.48378129252198343|\n",
            "|      2008|     VA-guaranteed|              4019|                 1826|0.45434187608857923|\n",
            "|      2008|      Conventional|            135938|                56514|0.41573364327855344|\n",
            "|      2008|FSA/RHS-guaranteed|              1175|                  589| 0.5012765957446809|\n",
            "|      2008|       FHA-insured|             32784|                12528| 0.3821376281112738|\n",
            "|      2007|      Conventional|            251038|                98324|0.39166978704419253|\n",
            "|      2007|       FHA-insured|             12004|                 4780|0.39820059980006667|\n",
            "|      2007|     VA-guaranteed|              2529|                 1220|0.48240411229735075|\n",
            "|      2007|FSA/RHS-guaranteed|               486|                  270| 0.5555555555555556|\n",
            "+----------+------------------+------------------+---------------------+-------------------+\n",
            "\n"
          ]
        }
      ]
    },
    {
      "cell_type": "code",
      "source": [
        "# Calculate the number of applicants and loan approvals for each purpose\n",
        "loan_purpose = ['as_of_year', 'loan_purpose_name',]\n",
        "df_loan_purpose = df.select(loan_purpose + ['action_taken_name'])\n",
        "\n",
        "# Group by products and calculate counts\n",
        "df_loan_purpose_grouped = df_loan_purpose.groupBy(*loan_purpose).agg(\n",
        "    count('action_taken_name').alias('total_applications'),\n",
        "    count(when(df_loan_purpose['action_taken_name'] == 'Loan originated', True)).alias('approved_applications')\n",
        ")\n",
        "\n",
        "# Calculate loan approval rates for each product group\n",
        "df_loan_purpose_grouped = df_loan_purpose_grouped.withColumn(\n",
        "    'approval_rate', df_loan_purpose_grouped['approved_applications'] / df_loan_purpose_grouped['total_applications']\n",
        ")\n",
        "\n",
        "# Display the results\n",
        "df_loan_purpose_grouped.orderBy(df_loan_purpose_grouped[\"as_of_year\"].desc()).show(250)"
      ],
      "metadata": {
        "colab": {
          "base_uri": "https://localhost:8080/"
        },
        "id": "iX5-8EzWiuSV",
        "outputId": "19974660-59c1-486e-ec04-1278f2b8a775"
      },
      "execution_count": 11,
      "outputs": [
        {
          "output_type": "stream",
          "name": "stdout",
          "text": [
            "+----------+-----------------+------------------+---------------------+-------------------+\n",
            "|as_of_year|loan_purpose_name|total_applications|approved_applications|      approval_rate|\n",
            "+----------+-----------------+------------------+---------------------+-------------------+\n",
            "|      2017|      Refinancing|             54734|                25201|0.46042679139109144|\n",
            "|      2017| Home improvement|             11069|                 5558|   0.50212304634565|\n",
            "|      2017|    Home purchase|             77052|                42482| 0.5513419508903078|\n",
            "|      2016|      Refinancing|             79677|                37814|0.47459116181583144|\n",
            "|      2016| Home improvement|             10408|                 5409| 0.5196963873943121|\n",
            "|      2016|    Home purchase|             73245|                40546| 0.5535667963683528|\n",
            "|      2015| Home improvement|              9397|                 4667| 0.4966478663403214|\n",
            "|      2015|    Home purchase|             67417|                36919| 0.5476215197947105|\n",
            "|      2015|      Refinancing|             66928|                32353|0.48340007171886207|\n",
            "|      2014|      Refinancing|             50635|                23779| 0.4696158783450183|\n",
            "|      2014|    Home purchase|             61124|                32144| 0.5258818140174072|\n",
            "|      2014| Home improvement|              8735|                 4179| 0.4784201488265598|\n",
            "|      2013|      Refinancing|             99041|                51477| 0.5197544451287851|\n",
            "|      2013| Home improvement|              8704|                 4282| 0.4919577205882353|\n",
            "|      2013|    Home purchase|             62417|                31428| 0.5035166701379432|\n",
            "|      2012| Home improvement|              8101|                 3826| 0.4722873719293914|\n",
            "|      2012|      Refinancing|            122299|                66512| 0.5438474558254769|\n",
            "|      2012|    Home purchase|             56516|                27644| 0.4891358199447944|\n",
            "|      2011|      Refinancing|             88443|                43138|0.48774917178295624|\n",
            "|      2011|    Home purchase|             52980|                24374|0.46006040015100036|\n",
            "|      2011| Home improvement|              7312|                 3465| 0.4738785557986871|\n",
            "|      2010|    Home purchase|             54775|                25435| 0.4643541761752624|\n",
            "|      2010|      Refinancing|            101712|                49607|0.48772022966808243|\n",
            "|      2010| Home improvement|              6999|                 3482|0.49749964280611514|\n",
            "|      2009|      Refinancing|            124156|                58044|  0.467508618190019|\n",
            "|      2009|    Home purchase|             62002|                27694|0.44666301087061705|\n",
            "|      2009| Home improvement|              8777|                 3833|0.43670958186168396|\n",
            "|      2008| Home improvement|             14518|                 5497| 0.3786334205813473|\n",
            "|      2008|    Home purchase|             67985|                31178|0.45860116202103407|\n",
            "|      2008|      Refinancing|             91413|                34782| 0.3804929277017492|\n",
            "|      2007|      Refinancing|            138246|                48044| 0.3475254256904359|\n",
            "|      2007|    Home purchase|            104402|                46795|  0.448219382770445|\n",
            "|      2007| Home improvement|             23409|                 9755|  0.416720064932291|\n",
            "+----------+-----------------+------------------+---------------------+-------------------+\n",
            "\n"
          ]
        }
      ]
    },
    {
      "cell_type": "markdown",
      "source": [
        "Additional Steps:\n",
        "\n",
        "\n",
        "*   Data cleaning\n",
        "*   Binning numerical data\n",
        "*   Feature engineering\n",
        "*   Productionize code and expand commenting\n",
        "\n"
      ],
      "metadata": {
        "id": "_9aInj-78Fmp"
      }
    },
    {
      "cell_type": "code",
      "source": [
        "from pyspark.sql import SparkSession\n",
        "from pyspark.ml.feature import VectorAssembler, StandardScaler, StringIndexer, OneHotEncoder\n",
        "from pyspark.ml import Pipeline\n",
        "from pyspark.ml.clustering import KMeans\n",
        "from pyspark.ml.linalg import Vectors\n",
        "from pyspark.sql.types import StringType\n",
        "from pyspark.sql.functions import col, when\n",
        "\n",
        "\n",
        "# Selecting relevant features for clustering\n",
        "features = [\n",
        "    'applicant_income_000s', 'loan_amount_000s', 'hud_median_family_income',\n",
        "    'tract_to_msamd_income', 'applicant_ethnicity_name', 'applicant_race_name_1',\n",
        "    'applicant_sex_name', 'loan_type_name', 'property_type_name', 'loan_purpose_name'\n",
        "]\n",
        "data = df.select(features)\n",
        "\n",
        "# Checking and handling null values\n",
        "for column in features:\n",
        "    data_type = data.schema[column].dataType\n",
        "    if isinstance(data_type, StringType):\n",
        "        data = data.fillna({column: 'Unknown'})  # Replace nulls with 'Unknown' for categorical data\n",
        "    else:\n",
        "        median_value = data.stat.approxQuantile(column, [0.5], 0.01)[0]\n",
        "        data = data.na.fill({column: median_value})  # Replace nulls with median for numerical data\n",
        "\n",
        "# Handling categorical features with StringIndexer and OneHotEncoder\n",
        "categoricalColumns = [field for (field, dataType) in data.dtypes if dataType == 'string']\n",
        "stages = []\n",
        "for categoricalCol in categoricalColumns:\n",
        "    stringIndexer = StringIndexer(inputCol=categoricalCol, outputCol=categoricalCol + 'Index')\n",
        "    encoder = OneHotEncoder(inputCols=[stringIndexer.getOutputCol()], outputCols=[categoricalCol + \"classVec\"])\n",
        "    stages += [stringIndexer, encoder]\n",
        "\n",
        "# VectorAssembler to combine feature columns into a single vector column\n",
        "numericCols = [field for (field, dataType) in data.dtypes if dataType != 'string']\n",
        "assemblerInputs = [c + \"classVec\" for c in categoricalColumns] + numericCols\n",
        "assembler = VectorAssembler(inputCols=assemblerInputs, outputCol=\"features\")\n",
        "stages += [assembler]\n",
        "\n",
        "# StandardScaler to scale the features\n",
        "scaler = StandardScaler(inputCol=\"features\", outputCol=\"scaledFeatures\")\n",
        "stages += [scaler]\n",
        "\n",
        "# KMeans model\n",
        "kmeans = KMeans(featuresCol='scaledFeatures', k=2)\n",
        "stages += [kmeans]\n",
        "\n",
        "# Creating a Pipeline and fitting the model\n",
        "pipeline = Pipeline(stages=stages)\n",
        "model = pipeline.fit(data)\n",
        "prediction = model.transform(data)\n",
        "\n",
        "# Display the results\n",
        "prediction.groupBy('prediction').mean().show()\n"
      ],
      "metadata": {
        "colab": {
          "base_uri": "https://localhost:8080/"
        },
        "id": "c6rx5Gg3BSJG",
        "outputId": "cd843459-d833-4c45-fc6c-7fb693e1f6df"
      },
      "execution_count": 18,
      "outputs": [
        {
          "output_type": "stream",
          "name": "stdout",
          "text": [
            "+----------+--------------------------+---------------------+-----------------------------+--------------------------+----------------------------------+-------------------------------+----------------------------+------------------------+----------------------------+---------------------------+---------------+\n",
            "|prediction|avg(applicant_income_000s)|avg(loan_amount_000s)|avg(hud_median_family_income)|avg(tract_to_msamd_income)|avg(applicant_ethnicity_nameIndex)|avg(applicant_race_name_1Index)|avg(applicant_sex_nameIndex)|avg(loan_type_nameIndex)|avg(property_type_nameIndex)|avg(loan_purpose_nameIndex)|avg(prediction)|\n",
            "+----------+--------------------------+---------------------+-----------------------------+--------------------------+----------------------------------+-------------------------------+----------------------------+------------------------+----------------------------+---------------------------+---------------+\n",
            "|         1|        114.17384309339592|   222.76367294928679|            68783.77305562685|        115.46708963314765|                1.0983783139598842|             0.9889213816875069|           1.748716585383741|      0.2580946793296909|         0.04485992446188258|        0.45591929155513183|            1.0|\n",
            "|         0|         99.43617231928329|   215.03044383806431|            67351.66046871038|        114.56484963248266|               0.46798051265952695|             0.6908533861367011|          0.4833500356181254|     0.33980114219480095|         0.03181966362000894|         0.5284196418869155|            0.0|\n",
            "+----------+--------------------------+---------------------+-----------------------------+--------------------------+----------------------------------+-------------------------------+----------------------------+------------------------+----------------------------+---------------------------+---------------+\n",
            "\n"
          ]
        }
      ]
    },
    {
      "cell_type": "code",
      "source": [
        "from pyspark.sql.functions import when, col, lit\n",
        "from pyspark.ml import Pipeline\n",
        "from pyspark.ml.feature import StringIndexer, OneHotEncoder, VectorAssembler, QuantileDiscretizer\n",
        "from pyspark.ml.classification import RandomForestClassifier, GBTClassifier, LogisticRegression\n",
        "from pyspark.ml.evaluation import BinaryClassificationEvaluator\n",
        "from pyspark.ml.feature import IndexToString\n",
        "\n",
        "\n",
        "# Define target variable\n",
        "df = df.withColumn(\"target\", when(col(\"action_taken_name\") == \"Loan originated\", 1).otherwise(0))\n",
        "\n",
        "# List of features\n",
        "categorical_features = ['loan_type_name', 'property_type_name', 'loan_purpose_name', 'purchaser_type_name', 'preapproval_name',\n",
        "                        'applicant_ethnicity_name', 'applicant_race_name_1', 'co_applicant_race_name_1', 'applicant_sex_name', 'co_applicant_sex_name',\n",
        "                        'owner_occupancy_name']\n",
        "numeric_features = ['applicant_income_000s', 'loan_amount_000s', 'population', 'minority_population', 'hud_median_family_income', 'tract_to_msamd_income']\n",
        "\n",
        "# Fill missing values\n",
        "df = df.fillna({'applicant_income_000s': df.agg({'applicant_income_000s': 'median'}).first()[0],\n",
        "                'loan_amount_000s': df.agg({'loan_amount_000s': 'median'}).first()[0],\n",
        "               'population': df.agg({'population': 'median'}).first()[0],\n",
        "               'minority_population': df.agg({'minority_population': 'median'}).first()[0],\n",
        "               'hud_median_family_income': df.agg({'hud_median_family_income': 'median'}).first()[0],\n",
        "               'tract_to_msamd_income': df.agg({'tract_to_msamd_income': 'median'}).first()[0]},\n",
        "               )\n",
        "df = df.fillna('Missing', subset=categorical_features)\n",
        "\n",
        "# Feature engineering\n",
        "stages = []\n",
        "for categoricalCol in categorical_features:\n",
        "    stringIndexer = StringIndexer(inputCol=categoricalCol, outputCol=categoricalCol + \"Index\")\n",
        "    encoder = OneHotEncoder(inputCols=[stringIndexer.getOutputCol()], outputCols=[categoricalCol + \"classVec\"])\n",
        "    stages += [stringIndexer, encoder]\n",
        "\n",
        "discretizer = QuantileDiscretizer(numBuckets=3, inputCols=numeric_features, outputCols=[c + \"Bucketed\" for c in numeric_features])\n",
        "stages += [discretizer]\n",
        "\n",
        "assemblerInputs = [c + \"classVec\" for c in categorical_features] + [c + \"Bucketed\" for c in numeric_features]\n",
        "assembler = VectorAssembler(inputCols=assemblerInputs, outputCol=\"features\")\n",
        "stages += [assembler]\n",
        "\n",
        "# Classifier models\n",
        "lr = LogisticRegression(featuresCol='features', labelCol='target')\n",
        "rf = RandomForestClassifier(featuresCol='features', labelCol='target')\n",
        "gbt = GBTClassifier(featuresCol='features', labelCol='target')\n",
        "\n",
        "# Pipeline\n",
        "pipeline_lr = Pipeline(stages=stages + [lr])\n",
        "pipeline_rf = Pipeline(stages=stages + [rf])\n",
        "pipeline_gbt = Pipeline(stages=stages + [gbt])\n",
        "\n",
        "# Train models\n",
        "model_lr = pipeline_lr.fit(df)\n",
        "model_rf = pipeline_rf.fit(df)\n",
        "model_gbt = pipeline_gbt.fit(df)\n",
        "\n",
        "# Make predictions\n",
        "predictions_lr = model_lr.transform(df)\n",
        "predictions_rf = model_rf.transform(df)\n",
        "predictions_gbt = model_gbt.transform(df)\n",
        "\n",
        "# Evaluate models\n",
        "evaluator = BinaryClassificationEvaluator(labelCol=\"target\")\n",
        "roc_lr = evaluator.evaluate(predictions_lr, {evaluator.metricName: \"areaUnderROC\"})\n",
        "roc_rf = evaluator.evaluate(predictions_rf, {evaluator.metricName: \"areaUnderROC\"})\n",
        "roc_gbt = evaluator.evaluate(predictions_gbt, {evaluator.metricName: \"areaUnderROC\"})\n",
        "\n",
        "print(f\"Logistic Regression ROC: {roc_lr}\")\n",
        "print(f\"Random Forest ROC: {roc_rf}\")\n",
        "print(f\"Gradient Boosting Trees ROC: {roc_gbt}\")\n",
        "\n",
        "# Show feature importances for tree models\n",
        "rfModel = model_rf.stages[-1]\n",
        "gbtModel = model_gbt.stages[-1]\n",
        "print(f\"Random Forest Feature Importances: {rfModel.featureImportances}\")\n",
        "print(f\"Gradient Boosting Trees Feature Importances: {gbtModel.featureImportances}\")\n",
        "\n",
        "\n"
      ],
      "metadata": {
        "colab": {
          "base_uri": "https://localhost:8080/"
        },
        "id": "0-sqJYunBs-V",
        "outputId": "b5836b65-611b-43ab-8722-e57df3904338"
      },
      "execution_count": 13,
      "outputs": [
        {
          "output_type": "stream",
          "name": "stdout",
          "text": [
            "Logistic Regression ROC: 0.8686885002615703\n",
            "Random Forest ROC: 0.8622802459422952\n",
            "Gradient Boosting Trees ROC: 0.8886927423067484\n",
            "Random Forest Feature Importances: (49,[0,1,2,3,4,5,6,7,8,9,10,11,12,13,14,16,17,18,19,20,21,22,23,25,27,28,29,30,31,33,34,35,36,37,38,39,40,41,42,43,44,45,46,47,48],[0.0023225843070138644,0.0029213614691207795,0.00030252219246115433,0.0014426478215519016,9.328858541535004e-06,0.001363947266699693,0.0010748681966893522,0.3083995263735618,0.07854348707776829,0.007810059447391432,0.047598045700480304,0.05162038831568784,0.00026332469734617907,0.07223113943536294,0.015080163650726355,0.006860178213289855,0.015846947859368913,0.016293003979137355,0.0018764673830285275,0.07871462508465137,0.004205840458803329,3.181392418695803e-05,0.08047224851428773,3.9110412099356235e-06,0.002636606631475802,0.002425340818457478,0.04366397545033661,1.6617799097813195e-06,1.67106179058915e-06,1.0758966285742068e-06,0.0025820069116679117,9.36732117124181e-06,0.06678013816584487,0.001643170775718534,0.007055952015111904,0.0007299745342352796,0.05891520724620349,0.0037548708861350143,0.008972088663545036,0.0029464198633873395,0.000554340160694168,0.0006985867002595526,0.0005163672396870846,1.204642766763148e-06,0.000821541966605625])\n",
            "Gradient Boosting Trees Feature Importances: (49,[0,1,2,3,4,5,6,7,8,9,10,11,12,13,14,16,17,18,19,20,21,22,23,24,25,26,27,28,29,34,35,36,38,39,40,41,42,43,44,45,46,47,48],[0.04437114754237659,0.017408292064301827,1.7397379466678653e-05,0.000453775038050368,1.081854656456185e-06,0.009442467919691964,0.04978540579786966,0.22998881690408043,0.03224125199233916,0.01013256525101315,0.010977191258998997,0.04977283623211801,0.0030584891206756754,0.048287482888781395,0.03746756930292355,0.045134549547735756,0.006099630100798303,0.011994488272160871,8.854905579170075e-19,0.0045428174230426705,0.004858341707731649,3.839005400501319e-06,0.16878447171167468,0.0019662778170739855,2.9952165259660144e-05,1.1869275833786509e-05,0.0009705107452529404,0.0045557751471305185,0.11325712252603848,1.2154954638024244e-05,7.128549299324349e-06,0.0005361205993581376,0.0001825882690601773,5.894756813698745e-05,0.0021389013772676047,0.028237555071300005,0.0006797577075755871,0.023773773458490733,0.010436284543260463,6.885260074140161e-06,0.017725926256538224,0.004261678179318387,0.006326882213204391])\n"
          ]
        }
      ]
    },
    {
      "cell_type": "code",
      "source": [
        "from pyspark.ml.evaluation import MulticlassClassificationEvaluator\n",
        "\n",
        "# Evaluators for different metrics\n",
        "evaluator_accuracy = MulticlassClassificationEvaluator(labelCol=\"target\", predictionCol=\"prediction\", metricName=\"accuracy\")\n",
        "evaluator_f1 = MulticlassClassificationEvaluator(labelCol=\"target\", predictionCol=\"prediction\", metricName=\"f1\")\n",
        "evaluator_precision = MulticlassClassificationEvaluator(labelCol=\"target\", predictionCol=\"prediction\", metricName=\"weightedPrecision\")\n",
        "evaluator_recall = MulticlassClassificationEvaluator(labelCol=\"target\", predictionCol=\"prediction\", metricName=\"weightedRecall\")\n",
        "\n",
        "# Evaluate each model\n",
        "metrics_lr = {\n",
        "    \"Accuracy\": evaluator_accuracy.evaluate(predictions_lr),\n",
        "    \"F1 Score\": evaluator_f1.evaluate(predictions_lr),\n",
        "    \"Precision\": evaluator_precision.evaluate(predictions_lr),\n",
        "    \"Recall\": evaluator_recall.evaluate(predictions_lr)\n",
        "}\n",
        "\n",
        "metrics_rf = {\n",
        "    \"Accuracy\": evaluator_accuracy.evaluate(predictions_rf),\n",
        "    \"F1 Score\": evaluator_f1.evaluate(predictions_rf),\n",
        "    \"Precision\": evaluator_precision.evaluate(predictions_rf),\n",
        "    \"Recall\": evaluator_recall.evaluate(predictions_rf)\n",
        "}\n",
        "\n",
        "metrics_gbt = {\n",
        "    \"Accuracy\": evaluator_accuracy.evaluate(predictions_gbt),\n",
        "    \"F1 Score\": evaluator_f1.evaluate(predictions_gbt),\n",
        "    \"Precision\": evaluator_precision.evaluate(predictions_gbt),\n",
        "    \"Recall\": evaluator_recall.evaluate(predictions_gbt)\n",
        "}\n",
        "\n",
        "print(\"Logistic Regression Metrics:\", metrics_lr)\n",
        "print(\"Random Forest Metrics:\", metrics_rf)\n",
        "print(\"Gradient Boosting Metrics:\", metrics_gbt)\n"
      ],
      "metadata": {
        "colab": {
          "base_uri": "https://localhost:8080/"
        },
        "id": "UdDTC5kvBtLa",
        "outputId": "39fae07d-fe9e-4030-fbad-8867915ec1c8"
      },
      "execution_count": 14,
      "outputs": [
        {
          "output_type": "stream",
          "name": "stdout",
          "text": [
            "Logistic Regression Metrics: {'Accuracy': 0.797743872384281, 'F1 Score': 0.7967871840873901, 'Precision': 0.7995924023122651, 'Recall': 0.797743872384281}\n",
            "Random Forest Metrics: {'Accuracy': 0.7983861331421488, 'F1 Score': 0.7972823517879104, 'Precision': 0.8007540203351511, 'Recall': 0.7983861331421487}\n",
            "Gradient Boosting Metrics: {'Accuracy': 0.8090410470770735, 'F1 Score': 0.8078666782828148, 'Precision': 0.8120982300896559, 'Recall': 0.8090410470770735}\n"
          ]
        }
      ]
    },
    {
      "cell_type": "code",
      "source": [
        "# Extract and display feature importances for tree-based models in a readable format\n",
        "def extract_feature_importance(model, feature_names):\n",
        "    importances = model.featureImportances.toArray()\n",
        "    feature_importance_list = [(name, importance) for name, importance in zip(feature_names, importances)]\n",
        "    feature_importance_list_sorted = sorted(feature_importance_list, key=lambda x: x[1], reverse=True)\n",
        "    return feature_importance_list_sorted\n",
        "\n",
        "# Prepare feature names from the VectorAssembler stage of the pipeline\n",
        "feature_names = model_rf.stages[-2].getInputCols()\n",
        "\n",
        "# Extract feature importances\n",
        "importances_rf = extract_feature_importance(rfModel, feature_names)\n",
        "importances_gbt = extract_feature_importance(gbtModel, feature_names)\n",
        "\n",
        "# Print feature importances\n",
        "print(\"Random Forest Feature Importances:\")\n",
        "for name, importance in importances_rf:\n",
        "    print(f\"{name}: {importance:.4f}\")\n",
        "\n",
        "print(\"\\nGradient Boosting Trees Feature Importances:\")\n",
        "for name, importance in importances_gbt:\n",
        "    print(f\"{name}: {importance:.4f}\")\n"
      ],
      "metadata": {
        "colab": {
          "base_uri": "https://localhost:8080/"
        },
        "id": "MeIzE_c6sShS",
        "outputId": "fd851f1b-cae3-4f50-d61c-3e0288531205"
      },
      "execution_count": 15,
      "outputs": [
        {
          "output_type": "stream",
          "name": "stdout",
          "text": [
            "Random Forest Feature Importances:\n",
            "co_applicant_race_name_1classVec: 0.3084\n",
            "applicant_sex_nameclassVec: 0.0785\n",
            "populationBucketed: 0.0722\n",
            "applicant_income_000sBucketed: 0.0516\n",
            "owner_occupancy_nameclassVec: 0.0476\n",
            "minority_populationBucketed: 0.0151\n",
            "co_applicant_sex_nameclassVec: 0.0078\n",
            "tract_to_msamd_incomeBucketed: 0.0069\n",
            "property_type_nameclassVec: 0.0029\n",
            "loan_type_nameclassVec: 0.0023\n",
            "purchaser_type_nameclassVec: 0.0014\n",
            "applicant_ethnicity_nameclassVec: 0.0014\n",
            "applicant_race_name_1classVec: 0.0011\n",
            "loan_purpose_nameclassVec: 0.0003\n",
            "loan_amount_000sBucketed: 0.0003\n",
            "preapproval_nameclassVec: 0.0000\n",
            "hud_median_family_incomeBucketed: 0.0000\n",
            "\n",
            "Gradient Boosting Trees Feature Importances:\n",
            "co_applicant_race_name_1classVec: 0.2300\n",
            "applicant_race_name_1classVec: 0.0498\n",
            "applicant_income_000sBucketed: 0.0498\n",
            "populationBucketed: 0.0483\n",
            "tract_to_msamd_incomeBucketed: 0.0451\n",
            "loan_type_nameclassVec: 0.0444\n",
            "minority_populationBucketed: 0.0375\n",
            "applicant_sex_nameclassVec: 0.0322\n",
            "property_type_nameclassVec: 0.0174\n",
            "owner_occupancy_nameclassVec: 0.0110\n",
            "co_applicant_sex_nameclassVec: 0.0101\n",
            "applicant_ethnicity_nameclassVec: 0.0094\n",
            "loan_amount_000sBucketed: 0.0031\n",
            "purchaser_type_nameclassVec: 0.0005\n",
            "loan_purpose_nameclassVec: 0.0000\n",
            "preapproval_nameclassVec: 0.0000\n",
            "hud_median_family_incomeBucketed: 0.0000\n"
          ]
        }
      ]
    },
    {
      "cell_type": "markdown",
      "source": [
        "In this project, we leveraged the Home Mortgage Disclosure Act (HMDA) dataset to predict whether a mortgage application will lead to a loan origination, using PySpark for efficient handling of large data. Our approach consisted of meticulous data preprocessing, feature engineering, and evaluation of multiple machine learning models.\n",
        "\n",
        "**Data Preprocessing and Feature Engineering:**\n",
        "\n",
        "- Handling Missing Values: We filled missing values in numerical features like applicant income and loan amount with the median to maintain the integrity of their distributions. For categorical features, missing values were imputed with 'Missing' to prevent data loss.\n",
        "- Categorization and Encoding: We categorized continuous numerical features into three bins (low, medium, high) using QuantileDiscretizer to simplify their effects. Categorical variables were transformed using StringIndexer followed by OneHotEncoder to make them suitable for modeling. Encoded versions of the fields were provided but I just encoded them here for simplicity.\n",
        "\n",
        "**Model Development and Insights**:\n",
        "We deployed three different predictive models:\n",
        "\n",
        "- Logistic Regression\n",
        "- Random Forest Classifier\n",
        "- Gradient Boosting Trees\n",
        "\n",
        "These models were trained and assessed using metrics like ROC-AUC, accuracy, F1 score, precision, and recall, with the Random Forest model demonstrating superior performance across most metrics.\n",
        "\n",
        "**Key Insights:**\n",
        "\n",
        "- EDA explored correlations between approval rate and various demogrpahics. Uncovering correlations between race, gender and approval rate. To expand on this we could dive deeper when controlling for income since there's also an income disparity that may contribute to the approval disparity.\n",
        "- We looked at loan applications and approvals from 2007-2017 by loan type.\n",
        "- Feature importance analysis revealed that race, loan amount, and applicant income are critical predictors, emphasizing the financial aspects in loan approval decisions.\n",
        "- The categorization of numerical data helped in enhancing the interpretability of models and dealing with outliers effectively.\n",
        "- This analysis not only aids in identifying likely successful loan applications, enhancing operational efficiency, but also sheds light on significant factors influencing loan approvals."
      ],
      "metadata": {
        "id": "U4McOMtbY5AJ"
      }
    },
    {
      "cell_type": "code",
      "source": [],
      "metadata": {
        "id": "IBeEockysSju"
      },
      "execution_count": null,
      "outputs": []
    },
    {
      "cell_type": "markdown",
      "source": [],
      "metadata": {
        "id": "oxyzlSxUY2sq"
      }
    },
    {
      "cell_type": "code",
      "source": [],
      "metadata": {
        "id": "AEJfGX1NsRBM"
      },
      "execution_count": null,
      "outputs": []
    },
    {
      "cell_type": "code",
      "source": [],
      "metadata": {
        "id": "xnFoeznSSrGy"
      },
      "execution_count": null,
      "outputs": []
    }
  ]
}